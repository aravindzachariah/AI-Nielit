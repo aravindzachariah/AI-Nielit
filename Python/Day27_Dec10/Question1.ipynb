{
 "cells": [
  {
   "cell_type": "markdown",
   "metadata": {},
   "source": [
    "# Question1"
   ]
  },
  {
   "cell_type": "markdown",
   "metadata": {},
   "source": [
    "(hint: use pandas groupby)\n",
    "1. Import the necessary libraries\n",
    "\n",
    "2. Import the dataset(drinks.csv) from common/Python_Exercise folder.\n",
    "\n",
    "3. Assign it to a variable called drinks.\n",
    "\n",
    "4. Print the continent that drinks more beer on average?\n",
    "\n",
    "5. For each continent print the statistics(count,mean,std etc.) for wine consumption.\n",
    "\n",
    "6. Print the mean alcoohol consumption per continent for every column\n",
    "\n",
    "7. Print the median alcoohol consumption per continent for every column\n",
    "\n",
    "8. Print the mean, min and max values for spirit consumption.\n"
   ]
  },
  {
   "cell_type": "code",
   "execution_count": 2,
   "metadata": {},
   "outputs": [],
   "source": [
    "import pandas as pd"
   ]
  },
  {
   "cell_type": "code",
   "execution_count": 15,
   "metadata": {},
   "outputs": [
    {
     "name": "stdout",
     "output_type": "stream",
     "text": [
      "       country  beer_servings  spirit_servings  wine_servings  \\\n",
      "0  Afghanistan              0                0              0   \n",
      "1      Albania             89              132             54   \n",
      "2      Algeria             25                0             14   \n",
      "3      Andorra            245              138            312   \n",
      "4       Angola            217               57             45   \n",
      "\n",
      "   total_litres_of_pure_alcohol continent  \n",
      "0                           0.0        AS  \n",
      "1                           4.9        EU  \n",
      "2                           0.7        AF  \n",
      "3                          12.4        EU  \n",
      "4                           5.9        AF  \n",
      "-------------------------------------\n",
      "\n",
      "Continent that drinks more beer on average : EU\n",
      "-------------------------------------\n",
      "\n",
      "           count        mean        std  min   25%    50%     75%    max\n",
      "continent                                                               \n",
      "AF          53.0   16.264151  38.846419  0.0   1.0    2.0   13.00  233.0\n",
      "AS          44.0    9.068182  21.667034  0.0   0.0    1.0    8.00  123.0\n",
      "EU          45.0  142.222222  97.421738  0.0  59.0  128.0  195.00  370.0\n",
      "OC          16.0   35.625000  64.555790  0.0   1.0    8.5   23.25  212.0\n",
      "SA          12.0   62.416667  88.620189  1.0   3.0   12.0   98.50  221.0\n",
      "-------------------------------------\n",
      "\n",
      "           beer_servings  spirit_servings  wine_servings  \\\n",
      "continent                                                  \n",
      "AF             61.471698        16.339623      16.264151   \n",
      "AS             37.045455        60.840909       9.068182   \n",
      "EU            193.777778       132.555556     142.222222   \n",
      "OC             89.687500        58.437500      35.625000   \n",
      "SA            175.083333       114.750000      62.416667   \n",
      "\n",
      "           total_litres_of_pure_alcohol  \n",
      "continent                                \n",
      "AF                             3.007547  \n",
      "AS                             2.170455  \n",
      "EU                             8.617778  \n",
      "OC                             3.381250  \n",
      "SA                             6.308333  \n",
      "-------------------------------------\n",
      "\n",
      "           beer_servings  spirit_servings  wine_servings  \\\n",
      "continent                                                  \n",
      "AF                  32.0              3.0            2.0   \n",
      "AS                  17.5             16.0            1.0   \n",
      "EU                 219.0            122.0          128.0   \n",
      "OC                  52.5             37.0            8.5   \n",
      "SA                 162.5            108.5           12.0   \n",
      "\n",
      "           total_litres_of_pure_alcohol  \n",
      "continent                                \n",
      "AF                                 2.30  \n",
      "AS                                 1.20  \n",
      "EU                                10.00  \n",
      "OC                                 1.75  \n",
      "SA                                 6.85  \n",
      "-------------------------------------\n",
      "                 mean   min    max\n",
      "continent                         \n",
      "AF          16.339623   0.0  152.0\n",
      "AS          60.840909   0.0  326.0\n",
      "EU         132.555556   0.0  373.0\n",
      "OC          58.437500   0.0  254.0\n",
      "SA         114.750000  25.0  302.0\n"
     ]
    }
   ],
   "source": [
    "drinks=pd.read_csv(\"drinks.csv\")\n",
    "print drinks.head()\n",
    "print \"-------------------------------------\"\n",
    "g1=drinks.groupby('continent')\n",
    "print \"\\nContinent that drinks more beer on average :\",g1['beer_servings'].mean().idxmax()\n",
    "print \"-------------------------------------\"\n",
    "print \"\\n\",g1['wine_servings'].describe()\n",
    "print \"-------------------------------------\"\n",
    "print \"\\n\",g1.mean()\n",
    "print \"-------------------------------------\"\n",
    "print \"\\n\",g1.median()\n",
    "print \"-------------------------------------\"\n",
    "print g1['spirit_servings'].describe()[['mean','min','max']]\n",
    "\n"
   ]
  }
 ],
 "metadata": {
  "kernelspec": {
   "display_name": "Python 2",
   "language": "python",
   "name": "python2"
  },
  "language_info": {
   "codemirror_mode": {
    "name": "ipython",
    "version": 2
   },
   "file_extension": ".py",
   "mimetype": "text/x-python",
   "name": "python",
   "nbconvert_exporter": "python",
   "pygments_lexer": "ipython2",
   "version": "2.7.15rc1"
  }
 },
 "nbformat": 4,
 "nbformat_minor": 2
}
