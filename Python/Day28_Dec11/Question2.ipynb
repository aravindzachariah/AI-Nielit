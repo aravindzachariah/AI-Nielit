{
 "cells": [
  {
   "cell_type": "markdown",
   "metadata": {},
   "source": [
    "# Question 2"
   ]
  },
  {
   "cell_type": "markdown",
   "metadata": {},
   "source": [
    "2.Create a plot with different linestyle,color and marker for ,say, numbers less than \n",
    "           50 and greater than or equal to 50 for an array of 10 random integers between 1 and 100\n",
    "\t\t\n",
    "\t\tsteps\n",
    "\t\t1. import pyplot and numpy\n",
    "\t\t2. create figure \n",
    "\t\t3. add a subplot\n",
    "\t\t4. create and store 10 random integers between 1 and 100 in y array\n",
    "\t\t5. split the array into two y1 and y2. hint:less than 50 in y1 ,others in y2,boolen indexing \n",
    "\t\t6. store last element of y1 as first in y2: hint numpy.insert(array,index,value)\n",
    "\t\t7. create 10 even numbers in x array hint arange\n",
    "\t\t7. call plot of step3 return value by supplying x array containg index values 0 thru size of y1\n",
    "\t\t8. again call plot of step3 return value by supplying the required values\n",
    "\t\t9. show the figure"
   ]
  },
  {
   "cell_type": "code",
   "execution_count": 7,
   "metadata": {},
   "outputs": [],
   "source": [
    "import matplotlib.pyplot as plt\n",
    "import numpy as np\n",
    "import random"
   ]
  },
  {
   "cell_type": "code",
   "execution_count": 53,
   "metadata": {},
   "outputs": [
    {
     "data": {
      "image/png": "[encoded data removed]",
      "text/plain": [
       "<matplotlib.figure.Figure at 0x7fe80c602e10>"
      ]
     },
     "metadata": {},
     "output_type": "display_data"
    }
   ],
   "source": [
    "fig=plt.figure(figsize=(8,8))\n",
    "sub1=fig.add_subplot(2,2,1)"
   ]
  },
  {
   "cell_type": "code",
   "execution_count": 33,
   "metadata": {},
   "outputs": [
    {
     "name": "stdout",
     "output_type": "stream",
     "text": [
      "[31 42  5 44 43 41] [ 89  62  61 100] \n",
      "\n",
      "[ 41  89  62  61 100] \n",
      "\n",
      "[ 2  4  6  8 10 12 14 16 18 20] \n",
      "\n"
     ]
    }
   ],
   "source": [
    "y=[]\n",
    "for j in range(10): \n",
    "        y.append(random.randint(1, 100)) \n",
    "y=np.array(y)\n",
    "y1=y[y<50]\n",
    "y2=y[y>=50]\n",
    "print y1,y2,\"\\n\"\n",
    "y2=np.insert(y2,0,y1[-1])\n",
    "print y2,\"\\n\"\n",
    "x=np.arange(2,22,2)\n",
    "print x,\"\\n\""
   ]
  },
  {
   "cell_type": "code",
   "execution_count": 56,
   "metadata": {},
   "outputs": [],
   "source": [
    "sub1.plot(x[:y1.size])\n",
    "plt.show()"
   ]
  }
 ],
 "metadata": {
  "kernelspec": {
   "display_name": "Python 2",
   "language": "python",
   "name": "python2"
  },
  "language_info": {
   "codemirror_mode": {
    "name": "ipython",
    "version": 2
   },
   "file_extension": ".py",
   "mimetype": "text/x-python",
   "name": "python",
   "nbconvert_exporter": "python",
   "pygments_lexer": "ipython2",
   "version": "2.7.15rc1"
  }
 },
 "nbformat": 4,
 "nbformat_minor": 2
}
