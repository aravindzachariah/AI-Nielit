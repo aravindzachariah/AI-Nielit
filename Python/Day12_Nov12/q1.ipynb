{
 "cells": [
  {
   "cell_type": "code",
   "execution_count": 1,
   "metadata": {},
   "outputs": [],
   "source": [
    "import xml.dom.minidom as dm"
   ]
  },
  {
   "cell_type": "code",
   "execution_count": 3,
   "metadata": {},
   "outputs": [],
   "source": [
    "dtree=dm.parse('book.xml')"
   ]
  },
  {
   "cell_type": "code",
   "execution_count": 4,
   "metadata": {},
   "outputs": [],
   "source": [
    "rm=dtree.documentElement"
   ]
  },
  {
   "cell_type": "code",
   "execution_count": 7,
   "metadata": {},
   "outputs": [],
   "source": [
    "f=open('book1.txt','w')"
   ]
  },
  {
   "cell_type": "code",
   "execution_count": 8,
   "metadata": {},
   "outputs": [],
   "source": [
    "c=0"
   ]
  },
  {
   "cell_type": "code",
   "execution_count": 19,
   "metadata": {},
   "outputs": [],
   "source": [
    "for bm in rm.childNodes :\n",
    "    if bm.nodeType==1:\n",
    "        for k in bm.attributes.keys():\n",
    "            tm= bm.attributes[k].name.title()\n",
    "            tmname=bm.attributes[k].value.title()\n",
    "    for tn in bm.childNodes:\n",
    "        for tx in tn.childNodes:\n",
    "            a=tx.parentNode.nodeName.title()\n",
    "            if a==\"Title\":\n",
    "                title=tx.nodeValue.title()\n",
    "            if a==\"Author\":\n",
    "                author=tx.nodeValue.title()\n",
    "            if a==\"Year\":\n",
    "                year=tx.nodeValue.title()\n",
    "            if a==\"Price\":\n",
    "                c+=1 \n",
    "                price=tx.nodeValue.title()\n",
    "                f.writelines(\"%d.The book %s belongs to %s category and is witten by %s.\\n\" % (c,title,tmname,author))  \n",
    "                f.writelines(\"   This book is published in the year %s with a price of %s.\\n\" % (year,price))\t\t\t\n"
   ]
  },
  {
   "cell_type": "code",
   "execution_count": null,
   "metadata": {},
   "outputs": [],
   "source": []
  },
  {
   "cell_type": "code",
   "execution_count": null,
   "metadata": {},
   "outputs": [],
   "source": []
  },
  {
   "cell_type": "code",
   "execution_count": null,
   "metadata": {},
   "outputs": [],
   "source": []
  },
  {
   "cell_type": "code",
   "execution_count": null,
   "metadata": {},
   "outputs": [],
   "source": []
  },
  {
   "cell_type": "code",
   "execution_count": null,
   "metadata": {},
   "outputs": [],
   "source": []
  },
  {
   "cell_type": "code",
   "execution_count": null,
   "metadata": {},
   "outputs": [],
   "source": []
  }
 ],
 "metadata": {
  "kernelspec": {
   "display_name": "Python 2",
   "language": "python",
   "name": "python2"
  },
  "language_info": {
   "codemirror_mode": {
    "name": "ipython",
    "version": 2
   },
   "file_extension": ".py",
   "mimetype": "text/x-python",
   "name": "python",
   "nbconvert_exporter": "python",
   "pygments_lexer": "ipython2",
   "version": "2.7.15rc1"
  }
 },
 "nbformat": 4,
 "nbformat_minor": 2
}
