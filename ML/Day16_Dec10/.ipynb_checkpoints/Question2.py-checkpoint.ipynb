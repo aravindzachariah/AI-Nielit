{
 "cells": [
  {
   "cell_type": "markdown",
   "metadata": {},
   "source": [
    "# Question 2"
   ]
  },
  {
   "cell_type": "markdown",
   "metadata": {},
   "source": [
    "2) Implement a Convolutional Neural Network Model for Fashion MNIST Dataset in keras. Try to get predictions for some random inputs from the test data."
   ]
  },
  {
   "cell_type": "code",
   "execution_count": 1,
   "metadata": {},
   "outputs": [
    {
     "name": "stderr",
     "output_type": "stream",
     "text": [
      "Using TensorFlow backend.\n"
     ]
    }
   ],
   "source": [
    "import os.path\n",
    "import random\n",
    "import numpy\n",
    "import random\n",
    "from keras.datasets import fashion_mnist as fm\n",
    "from keras.models import model_from_json\n",
    "from keras.models import Sequential\n",
    "from keras.layers import Dense\n",
    "from keras.layers import Dropout\n",
    "from keras.layers import Flatten\n",
    "from keras.layers.convolutional import Conv2D\n",
    "from keras.layers.convolutional import MaxPooling2D\n",
    "from keras.utils import np_utils\n",
    "from keras import backend as K\n",
    "import matplotlib.pyplot as plt\n",
    "K.set_image_dim_ordering('th')"
   ]
  },
  {
   "cell_type": "code",
<<<<<<< HEAD
   "execution_count": 2,
=======
   "execution_count": 3,
>>>>>>> bdb4adfeee481c73cc60847504ba3b0beece3299
   "metadata": {},
   "outputs": [
    {
     "name": "stdout",
     "output_type": "stream",
     "text": [
      "Downloading data from http://fashion-mnist.s3-website.eu-central-1.amazonaws.com/train-labels-idx1-ubyte.gz\n",
      "32768/29515 [=================================] - 0s 6us/step\n",
      "40960/29515 [=========================================] - 0s 5us/step\n",
      "Downloading data from http://fashion-mnist.s3-website.eu-central-1.amazonaws.com/train-images-idx3-ubyte.gz\n",
      "26427392/26421880 [==============================] - 53s 2us/step\n",
      "26435584/26421880 [==============================] - 53s 2us/step\n",
      "Downloading data from http://fashion-mnist.s3-website.eu-central-1.amazonaws.com/t10k-labels-idx1-ubyte.gz\n",
      "16384/5148 [===============================================================================================] - 0s 0us/step\n",
      "Downloading data from http://fashion-mnist.s3-website.eu-central-1.amazonaws.com/t10k-images-idx3-ubyte.gz\n",
      "4423680/4422102 [==============================] - 10s 2us/step\n",
      "4431872/4422102 [==============================] - 10s 2us/step\n"
     ]
    }
   ],
   "source": [
    "numpy.random.seed(7)\n",
    "(X_train, y_train), (X_test, y_test) = fm.load_data()\n",
    "X_train = X_train.reshape(X_train.shape[0], 1, 28, 28).astype('float32')\n",
    "X_test = X_test.reshape(X_test.shape[0], 1, 28, 28).astype('float32')\n",
    "X_train = X_train / 255\n",
    "X_test = X_test / 255\n",
    "y_train1=y_train\n",
    "y_train = np_utils.to_categorical(y_train)\n",
    "y_test = np_utils.to_categorical(y_test)\n",
    "num_classes = y_test.shape[1]"
   ]
  },
  {
   "cell_type": "code",
<<<<<<< HEAD
   "execution_count": 3,
=======
   "execution_count": 4,
>>>>>>> bdb4adfeee481c73cc60847504ba3b0beece3299
   "metadata": {},
   "outputs": [],
   "source": [
    "def larger_model():\n",
    "\tmodel = Sequential()\n",
    "\tmodel.add(Conv2D(30, (5, 5), input_shape=(1, 28, 28), activation='relu'))\n",
    "\tmodel.add(MaxPooling2D(pool_size=(2, 2)))\n",
    "\tmodel.add(Conv2D(15, (3, 3), activation='relu'))\n",
    "\tmodel.add(MaxPooling2D(pool_size=(2, 2)))\n",
    "\tmodel.add(Dropout(0.2))\n",
    "\tmodel.add(Flatten())\n",
    "\tmodel.add(Dense(128, activation='relu'))\n",
    "\tmodel.add(Dense(50, activation='relu'))\n",
    "\tmodel.add(Dense(num_classes, activation='softmax'))\n",
    "\tmodel.compile(loss='categorical_crossentropy', optimizer='adam', metrics=['accuracy'])\n",
    "\treturn model"
   ]
  },
  {
   "cell_type": "code",
<<<<<<< HEAD
   "execution_count": 4,
=======
   "execution_count": 6,
>>>>>>> bdb4adfeee481c73cc60847504ba3b0beece3299
   "metadata": {},
   "outputs": [
    {
     "name": "stdout",
     "output_type": "stream",
     "text": [
      "Saved Model Found,Loading......\n"
     ]
    },
    {
     "ename": "ValueError",
     "evalue": "Unknown layer:layers",
     "output_type": "error",
     "traceback": [
      "\u001b[0;31m---------------------------------------------------------------------------\u001b[0m",
      "\u001b[0;31mValueError\u001b[0m                                Traceback (most recent call last)",
      "\u001b[0;32m<ipython-input-6-79daef65d7d4>\u001b[0m in \u001b[0;36m<module>\u001b[0;34m()\u001b[0m\n\u001b[1;32m      5\u001b[0m     \u001b[0mloaded_model_json\u001b[0m \u001b[0;34m=\u001b[0m \u001b[0mjson_file\u001b[0m\u001b[0;34m.\u001b[0m\u001b[0mread\u001b[0m\u001b[0;34m(\u001b[0m\u001b[0;34m)\u001b[0m\u001b[0;34m\u001b[0m\u001b[0m\n\u001b[1;32m      6\u001b[0m     \u001b[0mjson_file\u001b[0m\u001b[0;34m.\u001b[0m\u001b[0mclose\u001b[0m\u001b[0;34m(\u001b[0m\u001b[0;34m)\u001b[0m\u001b[0;34m\u001b[0m\u001b[0m\n\u001b[0;32m----> 7\u001b[0;31m     \u001b[0mmodel\u001b[0m \u001b[0;34m=\u001b[0m \u001b[0mmodel_from_json\u001b[0m\u001b[0;34m(\u001b[0m\u001b[0mloaded_model_json\u001b[0m\u001b[0;34m)\u001b[0m\u001b[0;34m\u001b[0m\u001b[0m\n\u001b[0m\u001b[1;32m      8\u001b[0m     \u001b[0;31m# load weights into model from saved file\u001b[0m\u001b[0;34m\u001b[0m\u001b[0;34m\u001b[0m\u001b[0m\n\u001b[1;32m      9\u001b[0m     \u001b[0mmodel\u001b[0m\u001b[0;34m.\u001b[0m\u001b[0mload_weights\u001b[0m\u001b[0;34m(\u001b[0m\u001b[0;34m\"model2.h5\"\u001b[0m\u001b[0;34m)\u001b[0m\u001b[0;34m\u001b[0m\u001b[0m\n",
      "\u001b[0;32m/opt/anaconda2/lib/python2.7/site-packages/keras/engine/saving.pyc\u001b[0m in \u001b[0;36mmodel_from_json\u001b[0;34m(json_string, custom_objects)\u001b[0m\n\u001b[1;32m    367\u001b[0m     \u001b[0mconfig\u001b[0m \u001b[0;34m=\u001b[0m \u001b[0mjson\u001b[0m\u001b[0;34m.\u001b[0m\u001b[0mloads\u001b[0m\u001b[0;34m(\u001b[0m\u001b[0mjson_string\u001b[0m\u001b[0;34m)\u001b[0m\u001b[0;34m\u001b[0m\u001b[0m\n\u001b[1;32m    368\u001b[0m     \u001b[0;32mfrom\u001b[0m \u001b[0;34m.\u001b[0m\u001b[0;34m.\u001b[0m\u001b[0mlayers\u001b[0m \u001b[0;32mimport\u001b[0m \u001b[0mdeserialize\u001b[0m\u001b[0;34m\u001b[0m\u001b[0m\n\u001b[0;32m--> 369\u001b[0;31m     \u001b[0;32mreturn\u001b[0m \u001b[0mdeserialize\u001b[0m\u001b[0;34m(\u001b[0m\u001b[0mconfig\u001b[0m\u001b[0;34m,\u001b[0m \u001b[0mcustom_objects\u001b[0m\u001b[0;34m=\u001b[0m\u001b[0mcustom_objects\u001b[0m\u001b[0;34m)\u001b[0m\u001b[0;34m\u001b[0m\u001b[0m\n\u001b[0m\u001b[1;32m    370\u001b[0m \u001b[0;34m\u001b[0m\u001b[0m\n\u001b[1;32m    371\u001b[0m \u001b[0;34m\u001b[0m\u001b[0m\n",
      "\u001b[0;32m/opt/anaconda2/lib/python2.7/site-packages/keras/layers/__init__.pyc\u001b[0m in \u001b[0;36mdeserialize\u001b[0;34m(config, custom_objects)\u001b[0m\n\u001b[1;32m     53\u001b[0m                                     \u001b[0mmodule_objects\u001b[0m\u001b[0;34m=\u001b[0m\u001b[0mglobs\u001b[0m\u001b[0;34m,\u001b[0m\u001b[0;34m\u001b[0m\u001b[0m\n\u001b[1;32m     54\u001b[0m                                     \u001b[0mcustom_objects\u001b[0m\u001b[0;34m=\u001b[0m\u001b[0mcustom_objects\u001b[0m\u001b[0;34m,\u001b[0m\u001b[0;34m\u001b[0m\u001b[0m\n\u001b[0;32m---> 55\u001b[0;31m                                     printable_module_name='layer')\n\u001b[0m",
      "\u001b[0;32m/opt/anaconda2/lib/python2.7/site-packages/keras/utils/generic_utils.pyc\u001b[0m in \u001b[0;36mdeserialize_keras_object\u001b[0;34m(identifier, module_objects, custom_objects, printable_module_name)\u001b[0m\n\u001b[1;32m    143\u001b[0m                     \u001b[0mconfig\u001b[0m\u001b[0;34m[\u001b[0m\u001b[0;34m'config'\u001b[0m\u001b[0;34m]\u001b[0m\u001b[0;34m,\u001b[0m\u001b[0;34m\u001b[0m\u001b[0m\n\u001b[1;32m    144\u001b[0m                     custom_objects=dict(list(_GLOBAL_CUSTOM_OBJECTS.items()) +\n\u001b[0;32m--> 145\u001b[0;31m                                         list(custom_objects.items())))\n\u001b[0m\u001b[1;32m    146\u001b[0m             \u001b[0;32mwith\u001b[0m \u001b[0mCustomObjectScope\u001b[0m\u001b[0;34m(\u001b[0m\u001b[0mcustom_objects\u001b[0m\u001b[0;34m)\u001b[0m\u001b[0;34m:\u001b[0m\u001b[0;34m\u001b[0m\u001b[0m\n\u001b[1;32m    147\u001b[0m                 \u001b[0;32mreturn\u001b[0m \u001b[0mcls\u001b[0m\u001b[0;34m.\u001b[0m\u001b[0mfrom_config\u001b[0m\u001b[0;34m(\u001b[0m\u001b[0mconfig\u001b[0m\u001b[0;34m[\u001b[0m\u001b[0;34m'config'\u001b[0m\u001b[0;34m]\u001b[0m\u001b[0;34m)\u001b[0m\u001b[0;34m\u001b[0m\u001b[0m\n",
      "\u001b[0;32m/opt/anaconda2/lib/python2.7/site-packages/keras/engine/sequential.pyc\u001b[0m in \u001b[0;36mfrom_config\u001b[0;34m(cls, config, custom_objects)\u001b[0m\n\u001b[1;32m    290\u001b[0m         \u001b[0;32mfor\u001b[0m \u001b[0mconf\u001b[0m \u001b[0;32min\u001b[0m \u001b[0mconfig\u001b[0m\u001b[0;34m:\u001b[0m\u001b[0;34m\u001b[0m\u001b[0m\n\u001b[1;32m    291\u001b[0m             layer = layer_module.deserialize(conf,\n\u001b[0;32m--> 292\u001b[0;31m                                              custom_objects=custom_objects)\n\u001b[0m\u001b[1;32m    293\u001b[0m             \u001b[0mmodel\u001b[0m\u001b[0;34m.\u001b[0m\u001b[0madd\u001b[0m\u001b[0;34m(\u001b[0m\u001b[0mlayer\u001b[0m\u001b[0;34m)\u001b[0m\u001b[0;34m\u001b[0m\u001b[0m\n\u001b[1;32m    294\u001b[0m         \u001b[0;32mreturn\u001b[0m \u001b[0mmodel\u001b[0m\u001b[0;34m\u001b[0m\u001b[0m\n",
      "\u001b[0;32m/opt/anaconda2/lib/python2.7/site-packages/keras/layers/__init__.pyc\u001b[0m in \u001b[0;36mdeserialize\u001b[0;34m(config, custom_objects)\u001b[0m\n\u001b[1;32m     53\u001b[0m                                     \u001b[0mmodule_objects\u001b[0m\u001b[0;34m=\u001b[0m\u001b[0mglobs\u001b[0m\u001b[0;34m,\u001b[0m\u001b[0;34m\u001b[0m\u001b[0m\n\u001b[1;32m     54\u001b[0m                                     \u001b[0mcustom_objects\u001b[0m\u001b[0;34m=\u001b[0m\u001b[0mcustom_objects\u001b[0m\u001b[0;34m,\u001b[0m\u001b[0;34m\u001b[0m\u001b[0m\n\u001b[0;32m---> 55\u001b[0;31m                                     printable_module_name='layer')\n\u001b[0m",
      "\u001b[0;32m/opt/anaconda2/lib/python2.7/site-packages/keras/utils/generic_utils.pyc\u001b[0m in \u001b[0;36mdeserialize_keras_object\u001b[0;34m(identifier, module_objects, custom_objects, printable_module_name)\u001b[0m\n\u001b[1;32m    163\u001b[0m             \u001b[0;32mif\u001b[0m \u001b[0mfn\u001b[0m \u001b[0;32mis\u001b[0m \u001b[0mNone\u001b[0m\u001b[0;34m:\u001b[0m\u001b[0;34m\u001b[0m\u001b[0m\n\u001b[1;32m    164\u001b[0m                 raise ValueError('Unknown ' + printable_module_name +\n\u001b[0;32m--> 165\u001b[0;31m                                  ':' + function_name)\n\u001b[0m\u001b[1;32m    166\u001b[0m         \u001b[0;32mreturn\u001b[0m \u001b[0mfn\u001b[0m\u001b[0;34m\u001b[0m\u001b[0m\n\u001b[1;32m    167\u001b[0m     \u001b[0;32melse\u001b[0m\u001b[0;34m:\u001b[0m\u001b[0;34m\u001b[0m\u001b[0m\n",
      "\u001b[0;31mValueError\u001b[0m: Unknown layer:layers"
     ]
    }
   ],
   "source": [
    "if os.path.isfile(\"model2.json\") and os.path.isfile(\"model2.h5\"):\n",
    "    print \"Saved Model Found,Loading......\"\n",
    "    # load json and create model\n",
    "    json_file = open('model2.json', 'r')\n",
    "    loaded_model_json = json_file.read()\n",
    "    json_file.close()\n",
    "    model = model_from_json(loaded_model_json)\n",
    "    # load weights into model from saved file\n",
    "    model.load_weights(\"model2.h5\")\n",
    "    model.compile(loss='binary_crossentropy', optimizer='rmsprop', metrics=['accuracy'])\n",
    "    print(\"Loaded model from disk\")\n",
    "else:\n",
    "    model = larger_model()\n",
    "    model.fit(X_train, y_train, validation_data=(X_test, y_test), epochs=4,batch_size=200)\n",
    "    model_json = model.to_json()\n",
    "    with open(\"model2.json\", \"w\") as json_file:\n",
    "        json_file.write(model_json)\n",
    "        # serialize weights to HDF5\n",
    "    model.save_weights(\"model2.h5\")\n",
    "    print(\"Saved model to disk\")\n",
    "scores = model.evaluate(X_test, y_test, verbose=0)\n",
    "print(\"Large CNN Error: %.2f%%\" % (100-scores[1]*100))"
   ]
  },
  {
   "cell_type": "code",
   "execution_count": 22,
   "metadata": {},
   "outputs": [
    {
     "data": {
      "image/png": "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\n",
      "text/plain": [
       "<matplotlib.figure.Figure at 0x7f393fbbd2d0>"
      ]
     },
     "metadata": {},
     "output_type": "display_data"
    }
   ],
   "source": [
    "label=[\"T-shirt/top\",\"Trouser\",\"Pullover\",\"Dress\",\"Coat\",\"Sandal\",\"Shirt\",\"Sneaker\",\"Bag\",\"Ankle boot\"]\n",
    "for j in range(1,5):\n",
<<<<<<< HEAD
    "    k=random.randint(0,200)\n",
    "    X1=X_train[k]\n",
    "    X2=X1.reshape(1,1,28,28)\n",
    "    p=model.predict(X2).round(0) \n",
    "    l=list((p==1)[0])\n",
    "    title=[i for indx,i in enumerate(label) if l[indx] == True]\n",
    "    plt.subplot(2,2,j)\n",
    "    plt.grid('True')\n",
    "    plt.imshow(X1[0,:,:])\n",
    "    plt.title(\"Prediction : \"+str(title))\n",
    "    plt.tight_layout()\n",
    "plt.show()\n"
=======
    "    k=random.randint(1,200)\n",
    "    X1=X_train[k]\n",
    "    plt.imshow(X1[0,:,:])\n",
    "plt.show()\n",
    "X1=X1.reshape(1,1,28,28)\n",
    "p=model.predict(X1).round(0) \n",
    "l=list((p==1)[0])\n",
    "print  [i for indx,i in enumerate(label) if l[indx] == True]"
>>>>>>> bdb4adfeee481c73cc60847504ba3b0beece3299
   ]
  },
  {
   "cell_type": "code",
   "execution_count": null,
   "metadata": {},
   "outputs": [],
   "source": []
  }
 ],
 "metadata": {
  "kernelspec": {
   "display_name": "Python 2",
   "language": "python",
   "name": "python2"
  },
  "language_info": {
   "codemirror_mode": {
    "name": "ipython",
    "version": 2
   },
   "file_extension": ".py",
   "mimetype": "text/x-python",
   "name": "python",
   "nbconvert_exporter": "python",
   "pygments_lexer": "ipython2",
   "version": "2.7.15"
  }
 },
 "nbformat": 4,
 "nbformat_minor": 2
}
