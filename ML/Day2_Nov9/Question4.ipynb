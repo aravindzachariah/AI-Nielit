{
 "cells": [
  {
   "cell_type": "markdown",
   "metadata": {},
   "source": [
    "# Question 4"
   ]
  },
  {
   "cell_type": "markdown",
   "metadata": {},
   "source": [
    "Identify a suitable dataset from your area of interest for a classification problem (Should not be the same as Day1 solution). Develop an ML model to do prediction. Print confusion matrix and accuracy score."
   ]
  },
  {
   "cell_type": "markdown",
   "metadata": {},
   "source": [
    "Data Information\n",
    "Source:\n",
    "Owner of database: Volker Lohweg (University of Applied Sciences, Ostwestfalen-Lippe, volker.lohweg '@' hs-owl.de) \n",
    "Donor of database: Helene DÃ¶rksen (University of Applied Sciences, Ostwestfalen-Lippe, helene.doerksen '@' hs-owl.de) \n",
    "Date received: August, 2012 \n",
    "\n",
    "Data Set Information:\n",
    "Data were extracted from images that were taken from genuine and forged banknote-like specimens. For digitization, an industrial camera usually used for print inspection was used. The final images have 400x 400 pixels. Due to the object lens and distance to the investigated object gray-scale pictures with a resolution of about 660 dpi were gained. Wavelet Transform tool were used to extract features from images.\n",
    "\n",
    "Attribute Information:\n",
    "1. variance of Wavelet Transformed image (continuous) \n",
    "2. skewness of Wavelet Transformed image (continuous) \n",
    "3. curtosis of Wavelet Transformed image (continuous) \n",
    "4. entropy of image (continuous) \n",
    "5. class (integer) \n",
    "\n",
    "Sample Real Currency: -1.3971,3.3191,-1.3927,-1.9948\n",
    "Sample CounterFit Currency: 2.2504,3.5757,0.35273,0.2836"
   ]
  },
  {
   "cell_type": "code",
   "execution_count": 7,
   "metadata": {},
   "outputs": [],
   "source": [
    "from sklearn.neighbors import KNeighborsClassifier\n",
    "from sklearn.model_selection import train_test_split\n",
    "from sklearn.metrics import accuracy_score,confusion_matrix\n",
    "import pandas as pd"
   ]
  },
  {
   "cell_type": "code",
   "execution_count": 22,
   "metadata": {},
   "outputs": [],
   "source": [
    "t1=pd.read_csv(\"data_banknote_authentication.txt\")\n",
    "t=t1.values\n",
    "X=t[:,:-1]\n",
    "y=t[:,4]"
   ]
  },
  {
   "cell_type": "code",
   "execution_count": 23,
   "metadata": {},
   "outputs": [],
   "source": [
    "Xtrain,Xtest,ytrain,ytest=train_test_split(X,y,test_size=0.2)\n",
    "knn=KNeighborsClassifier(n_neighbors=1)\n",
    "knn.fit(Xtrain,ytrain)\n",
    "p=knn.predict(Xtest)"
   ]
  },
  {
   "cell_type": "code",
   "execution_count": 24,
   "metadata": {},
   "outputs": [
    {
     "name": "stdout",
     "output_type": "stream",
     "text": [
      "Accuracy Score : 0.9963636363636363\n",
      "Confusion Matrix : \n",
      "[[142   1]\n",
      " [  0 132]]\n",
      " Enter the following values: \n"
     ]
    }
   ],
   "source": [
    "print \"Accuracy Score :\",accuracy_score(ytest,p)\n",
    "print \"Confusion Matrix : \\n\",confusion_matrix(ytest,p)\n",
    "print \" Enter the following values: \""
   ]
  },
  {
   "cell_type": "code",
   "execution_count": 25,
   "metadata": {},
   "outputs": [],
   "source": [
    "def fn(p):\n",
    "\tif p==0:\n",
    "\t\treturn \"Counterfit\"\n",
    "\telse:\n",
    "\t\treturn \"Not Counter Fit\"\n",
    "\t\t\t"
   ]
  },
  {
   "cell_type": "code",
   "execution_count": 26,
   "metadata": {},
   "outputs": [
    {
     "name": "stdout",
     "output_type": "stream",
     "text": [
      "Enter Variance,Skewness,Curtosis,Entropy of Wavlet Transform Image :  -1.3971,3.3191,-1.3927,-1.9948\n",
      "Not Counter Fit\n"
     ]
    }
   ],
   "source": [
    "a1=[]\n",
    "a=input(\"Enter Variance,Skewness,Curtosis,Entropy of Wavlet Transform Image : \")\n",
    "a1.append(a)\n",
    "print fn(knn.predict(a1))"
   ]
  },
  {
   "cell_type": "code",
   "execution_count": null,
   "metadata": {},
   "outputs": [],
   "source": []
  }
 ],
 "metadata": {
  "kernelspec": {
   "display_name": "Python 2",
   "language": "python",
   "name": "python2"
  },
  "language_info": {
   "codemirror_mode": {
    "name": "ipython",
    "version": 2
   },
   "file_extension": ".py",
   "mimetype": "text/x-python",
   "name": "python",
   "nbconvert_exporter": "python",
   "pygments_lexer": "ipython2",
   "version": "2.7.15rc1"
  }
 },
 "nbformat": 4,
 "nbformat_minor": 2
}
